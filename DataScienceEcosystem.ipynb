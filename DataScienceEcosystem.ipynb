{
 "cells": [
  {
   "cell_type": "markdown",
   "id": "250c1452-999f-4e90-a80e-cc0acafadbd5",
   "metadata": {},
   "source": [
    "### Data Science Tools and Ecosystem"
   ]
  },
  {
   "cell_type": "markdown",
   "id": "ca52058a-7105-4386-8d74-a874f55fd419",
   "metadata": {},
   "source": [
    "In this notebook, Data Science Tools and Ecosystem are summarized."
   ]
  },
  {
   "cell_type": "markdown",
   "id": "b32489ab-4d23-4300-b41b-fc6e04a8cd73",
   "metadata": {},
   "source": [
    "Some of the popular languages that Data Scientists use are:\n",
    "1. Python\n",
    "2. R\n",
    "3. SQL\n",
    "4. Java\n",
    "5. C++"
   ]
  },
  {
   "cell_type": "markdown",
   "id": "a628ffc0-4f43-4d9f-8944-92933cbb01b5",
   "metadata": {},
   "source": [
    "Some of the commonly used libraries used by Data Scientists include:\n",
    "1. NumPy\n",
    "2. Pandas\n",
    "3. TensorFlow\n",
    "4. Matplotlib"
   ]
  },
  {
   "cell_type": "markdown",
   "id": "f6a362f9-8c14-4218-a244-5a2246f74198",
   "metadata": {},
   "source": [
    "|Data Science Tools|\n",
    "|------------------|\n",
    "|Apache Hadoop|\n",
    "|TensorFlow|\n",
    "|SAS|"
   ]
  },
  {
   "cell_type": "markdown",
   "id": "b87d5c7d-6325-4634-8a93-dd7aeef11b66",
   "metadata": {},
   "source": [
    "### Below are a few examples of evaluating aritmetic expressions in Python."
   ]
  },
  {
   "cell_type": "code",
   "execution_count": 11,
   "id": "4765ecda-d383-41e6-a198-66c211f5d4af",
   "metadata": {},
   "outputs": [
    {
     "data": {
      "text/plain": [
       "17"
      ]
     },
     "execution_count": 11,
     "metadata": {},
     "output_type": "execute_result"
    }
   ],
   "source": [
    "#this is a commmon arithmetic example to multiply and then add integers\n",
    "(3*4)+5"
   ]
  },
  {
   "cell_type": "code",
   "execution_count": 13,
   "id": "47951d14-d86a-44c6-bd5a-fbc9cd614c54",
   "metadata": {},
   "outputs": [
    {
     "data": {
      "text/plain": [
       "3.3333333333333335"
      ]
     },
     "execution_count": 13,
     "metadata": {},
     "output_type": "execute_result"
    }
   ],
   "source": [
    "#This will convert 200 minutes to hours by dividing by 60\n",
    "200/60"
   ]
  },
  {
   "cell_type": "markdown",
   "id": "4b7303f9-0e8c-4ae8-81d2-1eb0852e7d06",
   "metadata": {},
   "source": [
    "__Objectives:__\n",
    "* List popular langauges for Data Science\n",
    "* List popular libraries for Data Science\n",
    "* List of well known Data Science Tools\n",
    "* Provide comments in the cell\n",
    "* Create simple arithmetic expressions\n"
   ]
  },
  {
   "cell_type": "markdown",
   "id": "54fe5ca8-e478-4696-8692-31e1320ae7b4",
   "metadata": {},
   "source": [
    "## Author \n",
    "Glynn Smith"
   ]
  },
  {
   "cell_type": "code",
   "execution_count": null,
   "id": "89fba924-a0d8-4613-a101-e1bb39a84d96",
   "metadata": {},
   "outputs": [],
   "source": []
  }
 ],
 "metadata": {
  "kernelspec": {
   "display_name": "anaconda-panel-2023.05-py310",
   "language": "python",
   "name": "conda-env-anaconda-panel-2023.05-py310-py"
  },
  "language_info": {
   "codemirror_mode": {
    "name": "ipython",
    "version": 3
   },
   "file_extension": ".py",
   "mimetype": "text/x-python",
   "name": "python",
   "nbconvert_exporter": "python",
   "pygments_lexer": "ipython3",
   "version": "3.11.5"
  }
 },
 "nbformat": 4,
 "nbformat_minor": 5
}
